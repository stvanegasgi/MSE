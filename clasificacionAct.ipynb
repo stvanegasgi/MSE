{
 "cells": [
  {
   "attachments": {},
   "cell_type": "markdown",
   "metadata": {},
   "source": [
    "# Clasificación\n",
    "\n",
    "Permite la predicción de respuestas cualitativas (variables categóricas). A las Técnicas de clasificación se les denomina $ \\bf{clasificadores} $.\n",
    "\n",
    "Los clasificadores se aplican sobre conjuntos de $ n $ observaciones (conjuto de entrenamiento) $ \\begin{Bmatrix} (x_1, y_1) , (x_2, y_2), \\cdots (x_n, y_n) \\end{Bmatrix} $. \n",
    "\n",
    "### Por qué no usar una regresión lineal para una respuesta cualitativa?\n",
    "\n",
    "- No hay una forma natural de convertir una variable de respuesta cualitativa con más de dos niveles en una respuesta cuantitativa.\n",
    "- Una regresión lineal no proporciona una estimación significativa del cálculo de la $ P(Y | X) $.\n"
   ]
  },
  {
   "attachments": {},
   "cell_type": "markdown",
   "metadata": {},
   "source": [
    "### Regresión logística\n",
    "\n",
    "- Se usa para obtener una respuesta cualitativa binaria.\n",
    "- Se modela la probabilidad que $ Y $ pertenezca a una categoría en particular.\n",
    "\n",
    "#### Modelo logístico\n",
    "\n",
    "Función logística:\n",
    "\n",
    "$$ p(\\bf{X}) = \\frac{e^{\\beta_0 + \\beta_1\\bf{X}}}{1 + e^{\\beta_0 + \\beta_1 \\bf{X}}} =  \\frac{1}{1 + e^{-(\\beta_0 + \\beta_1 \\bf{X})}}$$\n",
    "\n",
    "- Se ajusta a través del método máxima verosimilitud.\n"
   ]
  },
  {
   "cell_type": "code",
   "execution_count": 2,
   "metadata": {},
   "outputs": [
    {
     "data": {
      "text/plain": [
       "[<matplotlib.lines.Line2D at 0x296ff1b6130>]"
      ]
     },
     "execution_count": 2,
     "metadata": {},
     "output_type": "execute_result"
    },
    {
     "data": {
      "image/png": "[encoded data removed]",
      "text/plain": [
       "<Figure size 432x288 with 1 Axes>"
      ]
     },
     "metadata": {
      "needs_background": "light"
     },
     "output_type": "display_data"
    }
   ],
   "source": [
    "import numpy as np;\n",
    "import matplotlib.pyplot as plt;\n",
    "\n",
    "x = np.linspace(-5, 5, 100)\n",
    "beta_0, beta_1 = 1, 2.5;\n",
    "linear_model = beta_0 + beta_1 * x;\n",
    "y = (np.exp(linear_model))/(1 + np.exp(linear_model))\n",
    "\n",
    "fig, ax = plt.subplots()\n",
    "\n",
    "ax.plot(x, y)\n"
   ]
  },
  {
   "attachments": {},
   "cell_type": "markdown",
   "metadata": {},
   "source": [
    "$$ \\frac{p(\\bf{X})}{1 - p(\\bf{X})} = e^{\\beta_0 + \\beta_1\\bf{X}} $$\n"
   ]
  },
  {
   "attachments": {},
   "cell_type": "markdown",
   "metadata": {},
   "source": [
    "### Estimación de los coeficiente de la regresión\n",
    "\n",
    "Coeficiente $ \\beta_0 $ y $ \\beta_1 $ son desconocidos. El método más utilizado es el máxima verosimilitud.\n",
    "\n",
    "#### Función de verosimilitud\n",
    "\n",
    "$$ L(\\beta_0, \\beta_1) = \\prod_{i:y_i = 1} p(x_i) \\prod_{{i}':y_{{i}'} = 0} 1 - p(x_{{i}'}) $$\n",
    "\n",
    "- $ \\beta_0 $ y $ \\beta_1 $ se seleccionan para maximizar la función de verosimilitud.\n"
   ]
  },
  {
   "attachments": {},
   "cell_type": "markdown",
   "metadata": {},
   "source": [
    "$$ L(\\beta_0, \\beta_1) = \\prod_{i} p(x_i)^{y_i} (1 - p(x_i))^{1-y_i} $$\n",
    "$$ l(\\beta_0, \\beta_1) = \\sum_{i}^{n} y_i * ln(p(x_i)) + (1-y_i) * ln(1 - p(x_i)) $$\n",
    "$$ l(\\beta_0, \\beta_1) = \\sum_{i}^{n} y_i * ln \\left (\\frac{1}{1 + e^{-(\\beta_0 + \\beta_1 \\bf{x_i})}} \\right ) + (1-y_i) * ln \\left(\\frac{e^{-(\\beta_0 + \\beta_1 \\bf{x_i})}}{1 + e^{-(\\beta_0 + \\beta_1 \\bf{x_i})}}\\right) $$\n",
    "\n",
    "$$ l(\\beta_0, \\beta_1) = \\sum_{i}^{n} y_i * (\\beta_0 + \\beta_1 x_i)  - ln(1 + e^{(\\beta_0 + \\beta_1 \\bf{x_i})})$$"
   ]
  },
  {
   "attachments": {},
   "cell_type": "markdown",
   "metadata": {},
   "source": [
    "### Problema de maximización\n",
    "\n",
    "$$ \\beta^* = arg\\ \\underset{\\bf{\\beta}}{max} \\ l(\\beta_0, \\beta_1)  $$\n",
    "\n",
    "No se encuentra una solución análitica, por lo tanto, se usa un método numérico.\n",
    "\n",
    "\n",
    "### Encontrando las derivadas\n",
    "\n",
    "A través de métodos iterativos se puede encontrar una solución.\n",
    "\n",
    "- Gradiente\n",
    "$$ \\nabla l(\\beta_0, \\beta_1) = \\sum^{n}_{i=1} \\left [ y_i - p(x_i)\\right]x_i $$\n",
    "\n",
    "- Matriz Hessiana\n",
    "$$ \\nabla^2 l(\\beta_0, \\beta_1) = - \\sum_{i}^{n} p(x_i)(1- p(x_i)) x_i^T x_i $$\n",
    "\n",
    "#### Representación matricial de las derivadas\n",
    "\n",
    "\n",
    "- Gradiente\n",
    "$$ \\nabla l(\\beta_0, \\beta_1) = \\sum^{n}_{i=1} \\left [ y_i - p(x_i)\\right]x_i  = \\bf{X}^T (\\bf{Y} - \\bf{\\hat{Y}})$$\n",
    "\n",
    "- Matriz Hessiana\n",
    "$$ \\nabla^2 l(\\beta_0, \\beta_1) = - \\sum_{i}^{n} p(x_i)(1- p(x_i)) x_i^T x_i = - \\bf{X}^T \\bf{P} (1- \\bf{P}) \\bf{X}  = - \\bf{X}^T \\bf{W} \\bf{X} $$\n",
    "\n",
    "#### Proceso iterativo\n",
    "\n",
    "$$ \\bf{\\beta^{t+1}} = \\bf{\\beta^{t}} + (\\bf{X}^T \\bf{W}^{t} \\bf{X})^{-1} \\bf{X}^T (\\bf{Y} - \\bf{\\hat{Y}}^{t})$$"
   ]
  },
  {
   "attachments": {},
   "cell_type": "markdown",
   "metadata": {},
   "source": [
    "### Regresión logística múltiple\n",
    "\n",
    "Predecir una respuesta binaria usando múltiples predictores.\n",
    "\n",
    "$$ log \\left( \\frac{p(\\bf{X})}{1 - p(\\bf{X})} \\right ) = \\beta_0 + \\beta_1\\bf{X} + \\cdots + \\beta_p \\bf{X_p} $$\n",
    "\n",
    "- El número de predictores utilizado puede generar diferentes resultados, especialmente cuando existe correlación entre los predictores (Confuso)."
   ]
  },
  {
   "attachments": {},
   "cell_type": "markdown",
   "metadata": {},
   "source": [
    "### Regresión logística multinomial\n",
    "\n",
    "Clasificación de una respuesta cualitivo de más de dos 2 clases.\n",
    "\n",
    "$$ P(Y = k| X = x) =  \\frac{e^{\\beta_{k0} + \\beta_{k1}\\bf{X} + \\cdots + \\beta_{kp} \\bf{X_p}}}{1 + \\sum_{l=1}^{K-1} e^{\\beta_{l0} + \\beta_{l1}\\bf{X} + \\cdots + \\beta_{lp} \\bf{X_p}}} $$\n",
    "\n",
    "\n",
    "\n"
   ]
  },
  {
   "cell_type": "code",
   "execution_count": 18,
   "metadata": {},
   "outputs": [
    {
     "name": "stdout",
     "output_type": "stream",
     "text": [
      "X1\n",
      "100\n",
      "(100,)\n",
      "Y0\n",
      "[1. 1. 1. 1. 1. 0. 1. 0. 0. 1. 1. 1. 1. 1. 1. 1. 1. 0. 1. 0. 0. 1. 1. 0.\n",
      " 1. 0. 1. 0. 1. 1. 1. 1. 0. 0. 0. 1. 1. 1. 0. 0. 0. 0. 0. 1. 0. 0. 0. 1.\n",
      " 0. 0. 0. 1. 0. 0. 0. 1. 1. 1. 0. 0. 0. 0. 0. 0. 1. 0. 0. 1. 0. 1. 1. 1.\n",
      " 1. 0. 1. 0. 0. 0. 0. 1. 0. 1. 1. 0. 1. 1. 1. 0. 0. 1. 0. 1. 1. 1. 1. 1.\n",
      " 1. 1. 1. 1.]\n",
      "X2\n",
      "(100,)\n",
      "XData\n",
      "200\n",
      "(100, 2)\n",
      "beta_i  [-20.91734318  15.66685756]\n",
      "beta_i  [19.51396862 35.81039569]\n",
      "beta_i  [ 0.85092022 39.40168343]\n",
      "beta_i  [ 0.64655338 37.80442692]\n",
      "beta_i  [ 0.62107883 36.20560098]\n",
      "beta_i  [ 0.58246429 34.610248  ]\n",
      "beta_i  [ 0.54480526 33.01848135]\n",
      "beta_i  [ 0.50670416 31.43086639]\n",
      "beta_i  [ 0.46847771 29.84804325]\n",
      "beta_i  [ 0.43021079 28.27080574]\n",
      "beta_i  [ 0.39207266 26.70013774]\n",
      "beta_i  [ 0.35426481 25.13727388]\n",
      "beta_i  [ 0.31705203 23.58377989]\n",
      "beta_i  [ 0.28077431 22.04166342]\n",
      "beta_i  [ 0.24586708 20.51352669]\n",
      "beta_i  [ 0.21287453 19.00277698]\n",
      "beta_i  [ 0.18245227 17.51391619]\n",
      "beta_i  [ 0.15534345 16.05293572]\n",
      "beta_i  [ 0.13231383 14.62784582]\n",
      "beta_i  [ 0.11403328 13.24936351]\n",
      "beta_i  [ 0.1009125  11.93175238]\n",
      "beta_i  [ 0.09293513 10.69371035]\n",
      "beta_i  [0.08955965 9.55894851]\n",
      "beta_i  [0.08975469 8.5555777 ]\n",
      "beta_i  [0.0921902  7.71269116]\n",
      "beta_i  [0.09550396 7.05251107]\n",
      "beta_i  [0.0986561  6.57930556]\n",
      "beta_i  [0.10092725 6.27231393]\n",
      "beta_i  [0.10288269 6.09136575]\n",
      "beta_i  [0.10162754 5.99260542]\n",
      "beta_i  [0.11258847 5.94156776]\n",
      "beta_i  [0.06026935 5.91545953]\n",
      "beta_i  [0.32524343 5.90612097]\n",
      "beta_i  [-1.0041537   5.91085169]\n",
      "beta_i  [5.87240984 6.57069699]\n",
      "beta_i  [-19.46369721  15.41040437]\n",
      "beta_i  [19.98451937 34.24110114]\n",
      "beta_i  [-0.10655652 38.61731125]\n",
      "beta_i  [ 0.66758035 37.00431976]\n",
      "beta_i  [ 0.59808502 35.40806545]\n",
      "beta_i  [ 0.5642357  33.81434269]\n",
      "beta_i  [ 0.52568906 32.22459352]\n",
      "beta_i  [ 0.487639   30.63928096]\n",
      "beta_i  [ 0.44934395 29.05913984]\n",
      "beta_i  [ 0.41112794 27.48504785]\n",
      "beta_i  [ 0.37312284 25.91810685]\n",
      "beta_i  [ 0.3355763 24.3597048]\n",
      "beta_i  [ 0.29878208 22.81161225]\n",
      "beta_i  [ 0.26312858 21.27611164]\n",
      "beta_i  [ 0.22910272 19.75617681]\n",
      "beta_i  [ 0.19730635 18.25571991]\n",
      "beta_i  [ 0.16844324 16.77993009]\n",
      " ====== [ 0.16844324 16.77993009]\n"
     ]
    },
    {
     "data": {
      "text/plain": [
       "[<matplotlib.lines.Line2D at 0x296ff7b8e50>]"
      ]
     },
     "execution_count": 18,
     "metadata": {},
     "output_type": "execute_result"
    },
    {
     "data": {
      "image/png": "[encoded data removed]",
      "text/plain": [
       "<Figure size 432x288 with 1 Axes>"
      ]
     },
     "metadata": {
      "needs_background": "light"
     },
     "output_type": "display_data"
    }
   ],
   "source": [
    "import numpy as np\n",
    "import matplotlib.pyplot as plt\n",
    "\n",
    "\n",
    "def p(X, beta):\n",
    "    fun = 1/(1 + np.exp(-X@beta))\n",
    "    return fun\n",
    "\n",
    "def p_1(X, beta):\n",
    "    fun = 1 - 1/(1 + np.exp(-X@beta))\n",
    "    return fun\n",
    "\n",
    "def gradient(X, Y_real, P):\n",
    "    return X.T @ (Y_real - P)\n",
    "\n",
    "\n",
    "def gradientDescent(X, beta_0, Y_real):\n",
    "    p_init = p(X, beta_0)\n",
    "    g_fun  = gradient(X, Y_real, p_init)\n",
    "    beta_next = beta_0\n",
    "    conunter_i = 0\n",
    "    while(np.linalg.norm(g_fun) >= 0.01):\n",
    "\n",
    "        beta_next = beta_next + g_fun\n",
    "        p_i    = p(X, beta_next)\n",
    "        g_fun  = gradient(X, Y_real, p_i)\n",
    "        print(\"beta_i \", beta_next)\n",
    "\n",
    "        if (conunter_i > 50):\n",
    "            break\n",
    "        else:\n",
    "            conunter_i += 1 \n",
    "\n",
    "    return beta_next\n",
    "\n",
    "\n",
    "xmin, xmax = -5, 5\n",
    "n_samples = 100\n",
    "np.random.seed(0)\n",
    "X = np.random.normal(size=n_samples)\n",
    "print(\"X1\")\n",
    "#print(X)\n",
    "print(np.size(X))\n",
    "print(X.shape)\n",
    "y = (X > 0).astype(float)\n",
    "print(\"Y0\")\n",
    "print(y)\n",
    "X += 0.3 * np.random.normal(size=n_samples)\n",
    "print(\"X2\")\n",
    "print(X.shape)\n",
    "#print(X)\n",
    "X = X[:, np.newaxis]\n",
    "ones_m = np.ones(n_samples)\n",
    "X_data = np.c_[ones_m, X]\n",
    "print(\"XData\")\n",
    "#print(X_data)\n",
    "print(np.size(X_data))\n",
    "print(X_data.shape)\n",
    "\n",
    "plt.scatter(X.ravel(), y, label=\"example data\", color=\"black\", zorder=20)\n",
    "\n",
    "beta_0 = np.array([2, 2])\n",
    "\n",
    "beta_final = gradientDescent(X_data, beta_0, y)\n",
    "\n",
    "print(\" ======\", beta_final)\n",
    "\n",
    "num_points = 100\n",
    "x_plot = np.linspace(-3,9,num_points)\n",
    "ones_m = np.ones(num_points)\n",
    "x_plot = np.c_[ones_m, x_plot]\n",
    "p_fun_plot = p(x_plot, beta_final)\n",
    "plt.plot(x_plot[:, 1], p_fun_plot, label=\"fun\", color=\"red\")\n"
   ]
  }
 ],
 "metadata": {
  "kernelspec": {
   "display_name": "base",
   "language": "python",
   "name": "python3"
  },
  "language_info": {
   "codemirror_mode": {
    "name": "ipython",
    "version": 3
   },
   "file_extension": ".py",
   "mimetype": "text/x-python",
   "name": "python",
   "nbconvert_exporter": "python",
   "pygments_lexer": "ipython3",
   "version": "3.8.5"
  },
  "orig_nbformat": 4,
  "vscode": {
   "interpreter": {
    "hash": "9b9f6485708e18c27c0d3bd72075ba02e2ed82c811fdd2fc15bbe4b999b91970"
   }
  }
 },
 "nbformat": 4,
 "nbformat_minor": 2
}
