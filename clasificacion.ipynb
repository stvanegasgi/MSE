{
 "cells": [
  {
   "attachments": {},
   "cell_type": "markdown",
   "metadata": {},
   "source": [
    "# Clasificación\n",
    "\n",
    "Predicción de respuestas cualitaticas (variables categóricas). Técnicas de clasificación se les denomica $ \\bf{clasificadores} $.\n",
    "\n",
    "\n",
    "Un conjuntos de $ n $ observaciones (conjuto de entrenamiento) $ \\begin{Bmatrix} (x_1, y_1) , (x_2, y_2), \\cdots (x_n, y_n) \\end{Bmatrix} $. \n",
    "\n",
    "### Por qué no usar una regresión lineal para una respuesta cualitativa?\n",
    "\n",
    "- No hay una forma natural de convertir una variable de respuesta cualitativa con más de dos niveles en una respuesta cuantitativa.\n",
    "- Una regresión lineal no proporciona una estimación significativa del calculo de la $ P(Y | X) $.\n"
   ]
  },
  {
   "attachments": {},
   "cell_type": "markdown",
   "metadata": {},
   "source": [
    "### Regresión logística\n",
    "\n",
    "- Se usa para una respuesta cualitativa binaria.\n",
    "- Se modela la probabilidad que $ Y $ pertenezca a una categoría en particular.\n",
    "\n",
    "#### Modelo logístico\n",
    "\n",
    "$$ p(\\bf{X}) = \\frac{e^{\\beta_0 + \\beta_1\\bf{X}}}{1 + e^{\\beta_0 + \\beta_1 \\bf{X}}} =  \\frac{1}{1 + e^{-(\\beta_0 + \\beta_1 \\bf{X})}}$$\n",
    "\n",
    "- Se ajusta a través del método máximo verosimilitud.\n"
   ]
  },
  {
   "cell_type": "code",
   "execution_count": 2,
   "metadata": {},
   "outputs": [
    {
     "data": {
      "text/plain": [
       "[<matplotlib.lines.Line2D at 0x7f92f9158940>]"
      ]
     },
     "execution_count": 2,
     "metadata": {},
     "output_type": "execute_result"
    },
    {
     "data": {
      "image/png": "[encoded data removed]",
      "text/plain": [
       "<Figure size 640x480 with 1 Axes>"
      ]
     },
     "metadata": {},
     "output_type": "display_data"
    }
   ],
   "source": [
    "import numpy as np;\n",
    "import matplotlib.pyplot as plt;\n",
    "\n",
    "x = np.linspace(-5, 5, 100)\n",
    "beta_0, beta_1 = 1, 2.5;\n",
    "linear_model = beta_0 + beta_1 * x;\n",
    "y = (np.exp(linear_model))/(1 + np.exp(linear_model))\n",
    "\n",
    "fig, ax = plt.subplots()\n",
    "\n",
    "ax.plot(x, y)\n"
   ]
  },
  {
   "attachments": {},
   "cell_type": "markdown",
   "metadata": {},
   "source": [
    "$$ \\frac{p(\\bf{X})}{1 - p(\\bf{X})} = e^{\\beta_0 + \\beta_1\\bf{X}} $$\n"
   ]
  },
  {
   "attachments": {},
   "cell_type": "markdown",
   "metadata": {},
   "source": [
    "### Estimación de los coeficiente de la regresión\n",
    "\n",
    "Coeficiente $ \\beta_0 $ y $ \\beta_1 $ son desconocidos. El método más utilizado es el máxima verosimilitud (tiene mejores propiedades estadísticas comparado con el mínimos cuadrados).\n",
    "\n",
    "#### Función de verosimilitud\n",
    "\n",
    "$$ L(\\beta_0, \\beta_1) = \\prod_{i:y_i = 1} p(x_i) \\prod_{{i}':y_{{i}'} = 0} 1 - p(x_{{i}'}) $$\n",
    "\n",
    "- $ \\beta_0 $ y $ \\beta_1 $ se seleccionan para maximizar la función de verosimilitud.\n"
   ]
  },
  {
   "attachments": {},
   "cell_type": "markdown",
   "metadata": {},
   "source": [
    "$$ L(\\beta_0, \\beta_1) = \\prod_{i} p(x_i)^{y_i} (1 - p(x_i))^{1-y_i} $$\n",
    "$$ l(\\beta_0, \\beta_1) = \\sum_{i}^{n} y_i * ln(p(x_i)) + (1-y_i) * ln(1 - p(x_i)) $$\n",
    "$$ l(\\beta_0, \\beta_1) = \\sum_{i}^{n} y_i * ln \\left (\\frac{1}{1 + e^{-(\\beta_0 + \\beta_1 \\bf{x_i})}} \\right ) + (1-y_i) * ln \\left(\\frac{e^{-(\\beta_0 + \\beta_1 \\bf{x_i})}}{1 + e^{-(\\beta_0 + \\beta_1 \\bf{x_i})}}\\right) $$\n",
    "\n",
    "$$ l(\\beta_0, \\beta_1) = \\sum_{i}^{n} y_i * (\\beta_0 + \\beta_1 x_i)  - ln(1 + e^{(\\beta_0 + \\beta_1 \\bf{x_i})})$$"
   ]
  },
  {
   "attachments": {},
   "cell_type": "markdown",
   "metadata": {},
   "source": [
    "### Problema de maximización\n",
    "\n",
    "$$ \\beta^* = arg\\ \\underset{\\bf{\\beta}}{max} \\ l(\\beta_0, \\beta_1)  $$\n",
    "\n",
    "No se encuentra una solución análitica, por lo tanto, se usa un método numérico.\n",
    "\n",
    "\n",
    "### Encontrando las derivadas\n",
    "\n",
    "A través de Newton-Raphson se puede encontrar una solución.\n",
    "\n",
    "- Gradiente\n",
    "$$ \\nabla l(\\beta_0, \\beta_1) = \\sum^{n}_{i=1} \\left [ y_i - p(x_i)\\right]x_i $$\n",
    "\n",
    "- Matriz Hessiana\n",
    "$$ \\nabla^2 l(\\beta_0, \\beta_1) = - \\sum_{i}^{n} p(x_i)(1- p(x_i)) x_i^T x_i $$\n",
    "\n",
    "#### Representación matricial de las derivadas\n",
    "\n",
    "\n",
    "- Gradiente\n",
    "$$ \\nabla l(\\beta_0, \\beta_1) = \\sum^{n}_{i=1} \\left [ y_i - p(x_i)\\right]x_i  = \\bf{X}^T (\\bf{Y} - \\bf{\\hat{Y}})$$\n",
    "\n",
    "- Matriz Hessiana\n",
    "$$ \\nabla^2 l(\\beta_0, \\beta_1) = - \\sum_{i}^{n} p(x_i)(1- p(x_i)) x_i^T x_i = - \\bf{X}^T \\bf{P} (1- \\bf{P}) \\bf{X}  = - \\bf{X}^T \\bf{W} \\bf{X} $$\n",
    "\n",
    "#### Proceso iterativo\n",
    "\n",
    "$$ \\bf{\\beta^{t+1}} = \\bf{\\beta^{t}} + (\\bf{X}^T \\bf{W}^{t} \\bf{X})^{-1} \\bf{X}^T (\\bf{Y} - \\bf{\\hat{Y}}^{t})$$"
   ]
  },
  {
   "attachments": {},
   "cell_type": "markdown",
   "metadata": {},
   "source": [
    "### Regresión logística múltiple\n",
    "\n",
    "Predecir una respuesta binaria usando múltiples predictores.\n",
    "\n",
    "$$ log \\left( \\frac{p(\\bf{X})}{1 - p(\\bf{X})} \\right ) = \\beta_0 + \\beta_1\\bf{X} + \\cdots + \\beta_p \\bf{X_p} $$\n",
    "\n",
    "- El número de predictores utilizado puede generar diferentes resultados, especialmente cuando existe correlación entre los predictores (Confuso)."
   ]
  },
  {
   "attachments": {},
   "cell_type": "markdown",
   "metadata": {},
   "source": [
    "### Regresión logística multinomial\n",
    "\n",
    "Clasificación de una respuesta cualitivo de más de dos 2 clases.\n",
    "\n",
    "$$ P(Y = k| X = x) =  \\frac{e^{\\beta_{k0} + \\beta_{k1}\\bf{X} + \\cdots + \\beta_{kp} \\bf{X_p}}}{1 + \\sum_{l=1}^{K-1} e^{\\beta_{l0} + \\beta_{l1}\\bf{X} + \\cdots + \\beta_{lp} \\bf{X_p}}}\n",
    "\n",
    "\n",
    "\n"
   ]
  }
 ],
 "metadata": {
  "kernelspec": {
   "display_name": "Python 3",
   "language": "python",
   "name": "python3"
  },
  "language_info": {
   "codemirror_mode": {
    "name": "ipython",
    "version": 3
   },
   "file_extension": ".py",
   "mimetype": "text/x-python",
   "name": "python",
   "nbconvert_exporter": "python",
   "pygments_lexer": "ipython3",
   "version": "3.9.13"
  },
  "orig_nbformat": 4
 },
 "nbformat": 4,
 "nbformat_minor": 2
}
