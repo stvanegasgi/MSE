{
 "cells": [
  {
   "cell_type": "markdown",
   "metadata": {},
   "source": []
  },
  {
   "attachments": {},
   "cell_type": "markdown",
   "metadata": {},
   "source": [
    "# Ejemplos\n",
    "\n",
    "Un conjunto de $ n=50 $ observaciones y $ 25 $ parámetros. Se agrupan por tipo de error introducido."
   ]
  },
  {
   "cell_type": "code",
   "execution_count": 60,
   "metadata": {},
   "outputs": [],
   "source": [
    "import numpy as np;\n",
    "import matplotlib.pyplot as plt;\n",
    "from scipy.stats import beta;\n",
    "from scipy.stats import uniform;\n",
    "from scipy.stats import chi;\n",
    "from scipy.stats import gamma;\n",
    "from scipy.stats import lognorm;\n",
    "from scipy.stats import alpha;\n",
    "from scipy.stats import expon;\n"
   ]
  },
  {
   "cell_type": "code",
   "execution_count": 61,
   "metadata": {},
   "outputs": [],
   "source": [
    "numSamples    = 50;\n",
    "numParameters = 8;\n",
    "lowBound      = -5;\n",
    "highBound     = 5;\n",
    "onesVector    = np.ones(numSamples);\n",
    "lowBeta       = -15;\n",
    "highBeta      = 25;\n",
    "betaV         = np.random.randint(lowBeta, highBeta, numParameters)\n",
    "\n",
    "# distribuciones de cada una de las variables\n",
    "x_1_dist = uniform(0, 100).rvs(size=numSamples)\n",
    "x_2_dist = beta(2.31, 0.627).rvs(size=numSamples)\n",
    "x_3_dist = chi(78).rvs(size=numSamples)\n",
    "x_4_dist = gamma(1.99).rvs(size=numSamples)\n",
    "x_5_dist = lognorm(0.954).rvs(size=numSamples)\n",
    "x_6_dist = alpha(3.57).rvs(size=numSamples)\n",
    "x_7_dist = expon().rvs(size=numSamples)\n",
    "\n",
    "X = np.c_[onesVector, x_1_dist, x_2_dist, x_3_dist, x_4_dist, x_5_dist, x_6_dist, x_7_dist]\n",
    "\n",
    "#X = np.random.uniform(low=lowBound, high=highBound, size=(numSamples, numParameters))\n",
    "#X = np.vstack((onesVector, X.T)).T\n",
    "\n",
    "dictResponseY = {}\n",
    "realY = X @ betaV\n",
    "#print(\"real \", realY)\n",
    "minY = np.min(realY)\n",
    "maxY = np.max(realY)\n",
    "\n",
    "modelUniform = uniform(minY*0.0001, maxY*0.005);\n",
    "modelBeta    = beta(np.absolute(minY*0.8), np.absolute(maxY*0.8));\n",
    "modelChi     = chi(np.absolute((minY + maxY)*0.45));\n",
    "modelGamma   = gamma(np.absolute((minY + maxY)*0.05));\n",
    "modelLogNorm = lognorm(0.6);\n",
    "\n",
    "dictResponseY[\"uniforme\"]  = modelUniform.rvs(size=numSamples);\n",
    "dictResponseY[\"beta\"]      = modelBeta.rvs(size=numSamples);\n",
    "dictResponseY[\"chi\"]       = modelChi.rvs(size=numSamples);\n",
    "dictResponseY[\"gamma\"]     = modelGamma.rvs(size=numSamples);\n",
    "dictResponseY[\"logNormal\"] = modelLogNorm.rvs(size=numSamples);\n",
    "\n",
    "#print(\"dictResponseY \", dictResponseY)\n",
    "\n",
    "dictResponseY[\"uniforme\"]  += realY;\n",
    "dictResponseY[\"beta\"]      += realY;\n",
    "dictResponseY[\"chi\"]       += realY;\n",
    "dictResponseY[\"gamma\"]     += realY;\n",
    "dictResponseY[\"logNormal\"] += realY;\n",
    "\n",
    "#print(\"dictResponseY sum \", dictResponseY)\n"
   ]
  },
  {
   "attachments": {},
   "cell_type": "markdown",
   "metadata": {},
   "source": [
    "# Regresión lineal múltiple\n",
    "\n",
    "$$ y_i = \\beta_0 + \\beta_1 x_1 + \\beta_2 x_2 + \\cdots + \\beta_p x_p + \\epsilon $$\n",
    "\n",
    "##### El modelo\n",
    "\n",
    "$$ \\bf{\\hat{Y}} = \\begin{bmatrix} 1 & x_{1,1} & \\cdots & x_{1,p} \\\\ 1 & x_{2,1} & \\cdots & x_{2,p}  \\\\ \\vdots & \\vdots& \\ddots &\\vdots \\\\ 1 & x_{n,1} & \\cdots & x_{n,p}   \\end{bmatrix} \\begin{bmatrix} \\beta_0 \\\\ \\beta_1 \\\\ \\vdots \\\\ \\beta_n \\end{bmatrix} = \\begin{bmatrix} \\hat{y_1} \\\\ \\hat{y_2} \\\\ \\vdots \\\\ \\hat{y_n} \\end{bmatrix} = \\bf{X} \\bf{\\beta}$$\n",
    "\n",
    "$$ \\bf{\\hat{\\beta}} = (\\bf{X}^T \\bf{X})^{-1}\\bf{X}^T\\bf{y}$$"
   ]
  },
  {
   "attachments": {},
   "cell_type": "markdown",
   "metadata": {},
   "source": [
    "### Criterio de mínimos cuadrados\n",
    "\n",
    "Forma de medir la cercanía de la la línea con el conjunto de datos.\n",
    "\n",
    "#### El residual\n",
    "\n",
    "$$ e_i = y_i - \\hat{y_i} $$\n",
    "\n",
    "- $ y_i $ valor de $ i $-ésima respuesta observada $ \\hat{y}_i $ es el valor de la respuesta $ i $-ésima predicha por el modelo.\n",
    "\n",
    "#### Suma residual de cuadrados (RSS)\n",
    "\n",
    "$$ RSS = e_1^2 + e_2^2 + \\cdots + e_n^2 $$\n"
   ]
  },
  {
   "attachments": {},
   "cell_type": "markdown",
   "metadata": {},
   "source": [
    "### Problema de optimización\n",
    "\n",
    "**El obejtivo es estimar los parámetros $ \\hat{\\beta_0} $ y $ \\hat{\\beta_1} $ para minimizar el RSS**\n",
    "\n",
    "$$ \\bf{e(\\bf{\\beta})} = \\frac{1}{2}(\\bf{y} - \\bf{X} \\bf{\\beta})^T (\\bf{y} - \\bf{X} \\bf{\\beta}) $$\n",
    "\n",
    "$$ \\bf{\\hat{\\beta}} = \\bf{\\beta^*} = arg\\ \\underset{\\bf{\\beta}}{min} \\ \\bf{e(\\beta)} = arg\\ \\underset{\\bf{\\beta}}{min} \\frac{1}{2}(\\bf{y} - \\bf{X} \\bf{\\beta})^T (\\bf{y} - \\bf{X} \\bf{\\beta}) $$\n",
    "\n",
    "Se encuentra el mínimo a través de la derivada.\n",
    "\n",
    "$$ \\frac{d \\bf{e(\\bf{\\beta})}}{d\\bf{\\beta}} = 0 $$\n",
    "\n",
    "$$ \\frac{d \\bf{e(\\bf{\\beta})}}{d\\bf{\\beta}} = \\frac{d \\bf{\\frac{1}{2} (\\bf{y}^T\\bf{y} - \\bf{y}^T\\bf{X}\\bf{\\beta} - (\\bf{X}\\bf{\\beta})^T\\bf{y} + (\\bf{X}\\bf{\\beta})^T \\bf{X}\\bf{\\beta} )}}{d\\bf{\\beta}} $$\n",
    "\n",
    "$$ \\frac{d \\bf{e(\\bf{\\beta})}}{d\\bf{\\beta}} = \\frac{1}{2} (-2 \\bf{y}^T\\bf{X} + 2\\bf{X}^T \\bf{X}\\bf{\\beta} )= \\bf{0}$$\n",
    "\n",
    "$$ \\bf{\\hat{\\beta}} = (\\bf{X}^T \\bf{X})^{-1}\\bf{X}^T\\bf{y}$$"
   ]
  },
  {
   "cell_type": "code",
   "execution_count": 62,
   "metadata": {},
   "outputs": [
    {
     "name": "stdout",
     "output_type": "stream",
     "text": [
      "\n",
      "\n",
      "En el archivo \"Resultados_data.xlsx\" se guardaron los resultados.\n"
     ]
    }
   ],
   "source": [
    "import pandas as pd;\n",
    "\n",
    "nombre_resul =  'Resultados_data.xlsx';\n",
    "\n",
    "writer = pd.ExcelWriter(nombre_resul, engine='xlsxwriter')\n",
    "\n",
    "tabla_uniforme = pd.DataFrame(data=np.c_[dictResponseY[\"uniforme\"],\n",
    "                                         dictResponseY[\"beta\"],\n",
    "                                         dictResponseY[\"chi\"],\n",
    "                                         dictResponseY[\"gamma\"],\n",
    "                                         dictResponseY[\"logNormal\"]],\n",
    "                                         columns=[\"Y uniforme\", \"Y beta\",\n",
    "                                                  \"Y chi\", \"Y gamma\", \"Y logNormal\"],\n",
    "                              index=np.arange(len(dictResponseY[\"uniforme\"]))+1)\n",
    "\n",
    "tabla_X     = pd.DataFrame(X, columns=list(range(len(X[0, :]))))\n",
    "tabla_beta  = pd.DataFrame(betaV, columns=[\"beta\"], index=np.arange(len(betaV))+1)\n",
    "tabla_realY = pd.DataFrame(realY, columns=[\"Yreal\"], index=np.arange(len(realY))+1)\n",
    "\n",
    "tabla_uniforme.to_excel(writer, sheet_name='Respuestas')\n",
    "tabla_X.to_excel(writer, sheet_name='X')\n",
    "tabla_beta.to_excel(writer, sheet_name='beta')\n",
    "tabla_realY.to_excel(writer, sheet_name='Y real')\n",
    "\n",
    "writer.save()\n",
    "print(f'\\n\\nEn el archivo \"{nombre_resul}\" se guardaron los resultados.')\n"
   ]
  },
  {
   "cell_type": "code",
   "execution_count": 63,
   "metadata": {},
   "outputs": [],
   "source": [
    "df         = pd.read_excel(nombre_resul, sheet_name=None)\n",
    "Ydata      = df[\"Respuestas\"].to_numpy()[:, 1:]\n",
    "Xdata      = df[\"X\"].to_numpy()[:, 1:]\n",
    "Yreal      = df[\"Y real\"].to_numpy()[:, 1:]\n",
    "betaVector = df[\"beta\"].to_numpy()[:, 1:]\n",
    "#print(betaVector)\n",
    "#print(np.shape(betaVector))"
   ]
  },
  {
   "cell_type": "code",
   "execution_count": 64,
   "metadata": {},
   "outputs": [
    {
     "name": "stdout",
     "output_type": "stream",
     "text": [
      "\n",
      "\n",
      "En el archivo \"Resultados_beta.xlsx\" se guardaron los resultados.\n"
     ]
    }
   ],
   "source": [
    "listBetaRespuesta = [];\n",
    "\n",
    "rowsY, columY = np.shape(Ydata)\n",
    "\n",
    "for Y_i in range(columY):\n",
    "    beta = np.linalg.inv(Xdata.T @ Xdata) @ Xdata.T @ Ydata[:, Y_i]\n",
    "    listBetaRespuesta.append(beta)\n",
    "    #print(\"beta \", beta)\n",
    "\n",
    "nombre_resul =  'Resultados_beta.xlsx';\n",
    "\n",
    "writer = pd.ExcelWriter(nombre_resul, engine='xlsxwriter')\n",
    "\n",
    "tabla_beta = pd.DataFrame(data=np.c_[listBetaRespuesta[0],\n",
    "                                     listBetaRespuesta[1],\n",
    "                                     listBetaRespuesta[2],\n",
    "                                     listBetaRespuesta[3],\n",
    "                                     listBetaRespuesta[4]],\n",
    "                                     columns=[\"beta uniforme\", \"beta beta\",\n",
    "                                                  \"beta chi\", \"beta gamma\", \"beta logNormal\"],\n",
    "                              index=np.arange(len(listBetaRespuesta[0]))+1)\n",
    "\n",
    "tabla_beta.to_excel(writer, sheet_name='Respuestas betas')\n",
    "\n",
    "writer.save()\n",
    "print(f'\\n\\nEn el archivo \"{nombre_resul}\" se guardaron los resultados.')\n",
    "\n"
   ]
  },
  {
   "cell_type": "code",
   "execution_count": 65,
   "metadata": {},
   "outputs": [
    {
     "name": "stdout",
     "output_type": "stream",
     "text": [
      "Coeficientes: \n",
      " [-2.00014309 -8.45698027 20.89032655 23.97416632  4.02508708 -2.66537881\n",
      " 18.01108964]\n",
      "Intercepto: \n",
      " 1.2969014838398607\n",
      "\n",
      "\n",
      "\n",
      "Coeficientes: \n",
      " [-1.99990992 -7.9964893  20.99854318 23.99897506  4.00284789 -2.04249117\n",
      " 18.0033018 ]\n",
      "Intercepto: \n",
      " -0.9417035400065572\n",
      "\n",
      "\n",
      "\n",
      "Coeficientes: \n",
      " [-2.00232677 -7.90021886 21.04642111 24.18683375  3.96174529 -1.45237229\n",
      " 18.10207177]\n",
      "Intercepto: \n",
      " 9.924016159039695\n",
      "\n",
      "\n",
      "\n",
      "Coeficientes: \n",
      " [-2.02496387 -5.79255264 21.17253296 23.70356211  4.53644667 -7.57057554\n",
      " 18.54615249]\n",
      "Intercepto: \n",
      " 13.579435155448834\n",
      "\n",
      "\n",
      "\n",
      "Coeficientes: \n",
      " [-2.00333511 -7.99068549 21.14127358 23.93939749  3.91192204 -0.67575542\n",
      " 18.01883713]\n",
      "Intercepto: \n",
      " -1.1114962022915051\n",
      "\n",
      "\n",
      "\n"
     ]
    }
   ],
   "source": [
    "from sklearn import linear_model\n",
    "\n",
    "listBetaRespuestaSklearn = [];\n",
    "\n",
    "rowsY, columY = np.shape(Ydata)\n",
    "#print(Ydata)\n",
    "#print(np.shape(Ydata[:, 0]))\n",
    "\n",
    "for Y_i in range(columY):\n",
    "    regr = linear_model.LinearRegression()\n",
    "    regr.fit(Xdata[:, 1:], Ydata[:, Y_i])\n",
    "\n",
    "    print(\"Coeficientes: \\n\", regr.coef_)\n",
    "    print(\"Intercepto: \\n\", regr.intercept_)\n",
    "    print(\"\\n\\n\")\n"
   ]
  }
 ],
 "metadata": {
  "kernelspec": {
   "display_name": "base",
   "language": "python",
   "name": "python3"
  },
  "language_info": {
   "codemirror_mode": {
    "name": "ipython",
    "version": 3
   },
   "file_extension": ".py",
   "mimetype": "text/x-python",
   "name": "python",
   "nbconvert_exporter": "python",
   "pygments_lexer": "ipython3",
   "version": "3.9.13"
  },
  "orig_nbformat": 4,
  "vscode": {
   "interpreter": {
    "hash": "9b9f6485708e18c27c0d3bd72075ba02e2ed82c811fdd2fc15bbe4b999b91970"
   }
  }
 },
 "nbformat": 4,
 "nbformat_minor": 2
}
